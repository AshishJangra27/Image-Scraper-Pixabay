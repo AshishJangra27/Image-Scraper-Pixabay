{
 "cells": [
  {
   "cell_type": "code",
   "execution_count": 66,
   "id": "5b9f82a5",
   "metadata": {},
   "outputs": [
    {
     "data": {
      "text/html": [
       "<div>\n",
       "<style scoped>\n",
       "    .dataframe tbody tr th:only-of-type {\n",
       "        vertical-align: middle;\n",
       "    }\n",
       "\n",
       "    .dataframe tbody tr th {\n",
       "        vertical-align: top;\n",
       "    }\n",
       "\n",
       "    .dataframe thead th {\n",
       "        text-align: right;\n",
       "    }\n",
       "</style>\n",
       "<table border=\"1\" class=\"dataframe\">\n",
       "  <thead>\n",
       "    <tr style=\"text-align: right;\">\n",
       "      <th></th>\n",
       "      <th>img_link</th>\n",
       "      <th>tags</th>\n",
       "      <th>likes</th>\n",
       "      <th>stars</th>\n",
       "      <th>comments</th>\n",
       "    </tr>\n",
       "  </thead>\n",
       "  <tbody>\n",
       "    <tr>\n",
       "      <th>0</th>\n",
       "      <td>https://cdn.pixabay.com/photo/2022/03/06/05/30...</td>\n",
       "      <td>Clouds, Sky, Atmosphere, Blue Sky</td>\n",
       "      <td>196</td>\n",
       "      <td>NaN</td>\n",
       "      <td>55</td>\n",
       "    </tr>\n",
       "    <tr>\n",
       "      <th>1</th>\n",
       "      <td>https://cdn.pixabay.com/photo/2022/04/07/11/45...</td>\n",
       "      <td>Bird, Ornithology, Hummingbird</td>\n",
       "      <td>76</td>\n",
       "      <td>NaN</td>\n",
       "      <td>20</td>\n",
       "    </tr>\n",
       "    <tr>\n",
       "      <th>2</th>\n",
       "      <td>https://cdn.pixabay.com/photo/2022/02/28/15/28...</td>\n",
       "      <td>Sea, Rainbow, Rainfall, Subtropical</td>\n",
       "      <td>282</td>\n",
       "      <td>NaN</td>\n",
       "      <td>106</td>\n",
       "    </tr>\n",
       "    <tr>\n",
       "      <th>3</th>\n",
       "      <td>https://cdn.pixabay.com/photo/2022/04/04/02/52...</td>\n",
       "      <td>Cherry Blossoms, Road, Japan, Sakura</td>\n",
       "      <td>42</td>\n",
       "      <td>NaN</td>\n",
       "      <td>11</td>\n",
       "    </tr>\n",
       "    <tr>\n",
       "      <th>4</th>\n",
       "      <td>https://cdn.pixabay.com/photo/2022/04/09/18/06...</td>\n",
       "      <td>Cape Marguerite, Flower, Plant</td>\n",
       "      <td>39</td>\n",
       "      <td>NaN</td>\n",
       "      <td>15</td>\n",
       "    </tr>\n",
       "  </tbody>\n",
       "</table>\n",
       "</div>"
      ],
      "text/plain": [
       "                                            img_link  \\\n",
       "0  https://cdn.pixabay.com/photo/2022/03/06/05/30...   \n",
       "1  https://cdn.pixabay.com/photo/2022/04/07/11/45...   \n",
       "2  https://cdn.pixabay.com/photo/2022/02/28/15/28...   \n",
       "3  https://cdn.pixabay.com/photo/2022/04/04/02/52...   \n",
       "4  https://cdn.pixabay.com/photo/2022/04/09/18/06...   \n",
       "\n",
       "                                   tags  likes  stars  comments  \n",
       "0     Clouds, Sky, Atmosphere, Blue Sky    196    NaN        55  \n",
       "1        Bird, Ornithology, Hummingbird     76    NaN        20  \n",
       "2   Sea, Rainbow, Rainfall, Subtropical    282    NaN       106  \n",
       "3  Cherry Blossoms, Road, Japan, Sakura     42    NaN        11  \n",
       "4        Cape Marguerite, Flower, Plant     39    NaN        15  "
      ]
     },
     "execution_count": 66,
     "metadata": {},
     "output_type": "execute_result"
    }
   ],
   "source": [
    "import os\n",
    "import requests\n",
    "import pandas as pd\n",
    "from tqdm import tqdm\n",
    "\n",
    "df = pd.read_csv('imgs.csv')\n",
    "df = df[df['img_link'] != '/static/img/blank.gif']\n",
    "df.head()"
   ]
  },
  {
   "cell_type": "code",
   "execution_count": 67,
   "id": "e684d84d",
   "metadata": {},
   "outputs": [],
   "source": [
    "# df = df.head(10000)\n",
    "\n",
    "ids   = []\n",
    "paths = []\n",
    "links = []\n",
    "\n",
    "i = 0"
   ]
  },
  {
   "cell_type": "code",
   "execution_count": 111,
   "id": "c244654b",
   "metadata": {
    "scrolled": true
   },
   "outputs": [
    {
     "name": "stderr",
     "output_type": "stream",
     "text": [
      "100%|█████████████████████████████████████| 8082/8082 [1:41:15<00:00,  1.33it/s]\n"
     ]
    }
   ],
   "source": [
    "for link in tqdm(df['img_link'][len(os.listdir('Imgs')):]):\n",
    "    \n",
    "    if (i == (len(os.listdir('Imgs')))):\n",
    "        \n",
    "        id_ = i + 100000000\n",
    "        id_ = 'A' + str(id_)[1:]\n",
    "        i += 1\n",
    "\n",
    "        path = 'Imgs/' + id_ + '.jpg'\n",
    "\n",
    "        response = requests.get(link)\n",
    "\n",
    "        file = open(path, \"wb\")\n",
    "        file.write(response.content)\n",
    "        file.close()\n",
    "\n",
    "        ids.append(id_)\n",
    "        paths.append(path)\n",
    "        links.append(link)\n",
    "        \n",
    "    else:\n",
    "        break        "
   ]
  },
  {
   "cell_type": "code",
   "execution_count": 115,
   "id": "a7348f9e",
   "metadata": {},
   "outputs": [],
   "source": [
    "df['path']    = paths\n",
    "df['img_id']  = ids"
   ]
  },
  {
   "cell_type": "code",
   "execution_count": 116,
   "id": "a908e335",
   "metadata": {},
   "outputs": [
    {
     "data": {
      "text/html": [
       "<div>\n",
       "<style scoped>\n",
       "    .dataframe tbody tr th:only-of-type {\n",
       "        vertical-align: middle;\n",
       "    }\n",
       "\n",
       "    .dataframe tbody tr th {\n",
       "        vertical-align: top;\n",
       "    }\n",
       "\n",
       "    .dataframe thead th {\n",
       "        text-align: right;\n",
       "    }\n",
       "</style>\n",
       "<table border=\"1\" class=\"dataframe\">\n",
       "  <thead>\n",
       "    <tr style=\"text-align: right;\">\n",
       "      <th></th>\n",
       "      <th>img_link</th>\n",
       "      <th>tags</th>\n",
       "      <th>likes</th>\n",
       "      <th>stars</th>\n",
       "      <th>comments</th>\n",
       "      <th>path</th>\n",
       "      <th>img_id</th>\n",
       "    </tr>\n",
       "  </thead>\n",
       "  <tbody>\n",
       "    <tr>\n",
       "      <th>0</th>\n",
       "      <td>https://cdn.pixabay.com/photo/2022/03/06/05/30...</td>\n",
       "      <td>Clouds, Sky, Atmosphere, Blue Sky</td>\n",
       "      <td>196</td>\n",
       "      <td>NaN</td>\n",
       "      <td>55</td>\n",
       "      <td>Imgs/A00000000.jpg</td>\n",
       "      <td>A00000000</td>\n",
       "    </tr>\n",
       "    <tr>\n",
       "      <th>1</th>\n",
       "      <td>https://cdn.pixabay.com/photo/2022/04/07/11/45...</td>\n",
       "      <td>Bird, Ornithology, Hummingbird</td>\n",
       "      <td>76</td>\n",
       "      <td>NaN</td>\n",
       "      <td>20</td>\n",
       "      <td>Imgs/A00000001.jpg</td>\n",
       "      <td>A00000001</td>\n",
       "    </tr>\n",
       "    <tr>\n",
       "      <th>2</th>\n",
       "      <td>https://cdn.pixabay.com/photo/2022/02/28/15/28...</td>\n",
       "      <td>Sea, Rainbow, Rainfall, Subtropical</td>\n",
       "      <td>282</td>\n",
       "      <td>NaN</td>\n",
       "      <td>106</td>\n",
       "      <td>Imgs/A00000002.jpg</td>\n",
       "      <td>A00000002</td>\n",
       "    </tr>\n",
       "    <tr>\n",
       "      <th>3</th>\n",
       "      <td>https://cdn.pixabay.com/photo/2022/04/04/02/52...</td>\n",
       "      <td>Cherry Blossoms, Road, Japan, Sakura</td>\n",
       "      <td>42</td>\n",
       "      <td>NaN</td>\n",
       "      <td>11</td>\n",
       "      <td>Imgs/A00000003.jpg</td>\n",
       "      <td>A00000003</td>\n",
       "    </tr>\n",
       "    <tr>\n",
       "      <th>4</th>\n",
       "      <td>https://cdn.pixabay.com/photo/2022/04/09/18/06...</td>\n",
       "      <td>Cape Marguerite, Flower, Plant</td>\n",
       "      <td>39</td>\n",
       "      <td>NaN</td>\n",
       "      <td>15</td>\n",
       "      <td>Imgs/A00000004.jpg</td>\n",
       "      <td>A00000004</td>\n",
       "    </tr>\n",
       "  </tbody>\n",
       "</table>\n",
       "</div>"
      ],
      "text/plain": [
       "                                            img_link  \\\n",
       "0  https://cdn.pixabay.com/photo/2022/03/06/05/30...   \n",
       "1  https://cdn.pixabay.com/photo/2022/04/07/11/45...   \n",
       "2  https://cdn.pixabay.com/photo/2022/02/28/15/28...   \n",
       "3  https://cdn.pixabay.com/photo/2022/04/04/02/52...   \n",
       "4  https://cdn.pixabay.com/photo/2022/04/09/18/06...   \n",
       "\n",
       "                                   tags  likes  stars  comments  \\\n",
       "0     Clouds, Sky, Atmosphere, Blue Sky    196    NaN        55   \n",
       "1        Bird, Ornithology, Hummingbird     76    NaN        20   \n",
       "2   Sea, Rainbow, Rainfall, Subtropical    282    NaN       106   \n",
       "3  Cherry Blossoms, Road, Japan, Sakura     42    NaN        11   \n",
       "4        Cape Marguerite, Flower, Plant     39    NaN        15   \n",
       "\n",
       "                 path     img_id  \n",
       "0  Imgs/A00000000.jpg  A00000000  \n",
       "1  Imgs/A00000001.jpg  A00000001  \n",
       "2  Imgs/A00000002.jpg  A00000002  \n",
       "3  Imgs/A00000003.jpg  A00000003  \n",
       "4  Imgs/A00000004.jpg  A00000004  "
      ]
     },
     "execution_count": 116,
     "metadata": {},
     "output_type": "execute_result"
    }
   ],
   "source": [
    "df.head()"
   ]
  },
  {
   "cell_type": "code",
   "execution_count": 117,
   "id": "c1c3c3df",
   "metadata": {},
   "outputs": [
    {
     "data": {
      "text/plain": [
       "img_link         0\n",
       "tags             2\n",
       "likes            0\n",
       "stars       205868\n",
       "comments         0\n",
       "path             0\n",
       "img_id           0\n",
       "dtype: int64"
      ]
     },
     "execution_count": 117,
     "metadata": {},
     "output_type": "execute_result"
    }
   ],
   "source": [
    "df.isnull().sum()"
   ]
  },
  {
   "cell_type": "code",
   "execution_count": 118,
   "id": "aa2d43a4",
   "metadata": {},
   "outputs": [],
   "source": [
    "del df['stars']"
   ]
  },
  {
   "cell_type": "code",
   "execution_count": 119,
   "id": "bf693644",
   "metadata": {},
   "outputs": [
    {
     "data": {
      "text/plain": [
       "img_link    0\n",
       "tags        2\n",
       "likes       0\n",
       "comments    0\n",
       "path        0\n",
       "img_id      0\n",
       "dtype: int64"
      ]
     },
     "execution_count": 119,
     "metadata": {},
     "output_type": "execute_result"
    }
   ],
   "source": [
    "df.isnull().sum()"
   ]
  },
  {
   "cell_type": "code",
   "execution_count": 120,
   "id": "96ae7d42",
   "metadata": {},
   "outputs": [],
   "source": [
    "df = df.dropna()"
   ]
  },
  {
   "cell_type": "code",
   "execution_count": 121,
   "id": "2685fdd8",
   "metadata": {},
   "outputs": [
    {
     "data": {
      "text/plain": [
       "img_link    0\n",
       "tags        0\n",
       "likes       0\n",
       "comments    0\n",
       "path        0\n",
       "img_id      0\n",
       "dtype: int64"
      ]
     },
     "execution_count": 121,
     "metadata": {},
     "output_type": "execute_result"
    }
   ],
   "source": [
    "df.isnull().sum()"
   ]
  },
  {
   "cell_type": "code",
   "execution_count": 122,
   "id": "076bdc6c",
   "metadata": {},
   "outputs": [],
   "source": [
    "df.to_csv('final.csv', index = False)"
   ]
  }
 ],
 "metadata": {
  "kernelspec": {
   "display_name": "Python 3 (ipykernel)",
   "language": "python",
   "name": "python3"
  },
  "language_info": {
   "codemirror_mode": {
    "name": "ipython",
    "version": 3
   },
   "file_extension": ".py",
   "mimetype": "text/x-python",
   "name": "python",
   "nbconvert_exporter": "python",
   "pygments_lexer": "ipython3",
   "version": "3.9.7"
  }
 },
 "nbformat": 4,
 "nbformat_minor": 5
}
