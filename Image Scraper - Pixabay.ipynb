{
 "cells": [
  {
   "cell_type": "code",
   "execution_count": 1,
   "id": "5bd02e34",
   "metadata": {},
   "outputs": [],
   "source": [
    "import requests\n",
    "import numpy as np\n",
    "import pandas as pd\n",
    "from tqdm import tqdm \n",
    "from bs4 import BeautifulSoup\n",
    "from selenium import webdriver\n",
    "\n",
    "driver = webdriver.Chrome()\n",
    "\n",
    "data = []"
   ]
  },
  {
   "cell_type": "code",
   "execution_count": 2,
   "id": "2bfe2c38",
   "metadata": {},
   "outputs": [
    {
     "name": "stderr",
     "output_type": "stream",
     "text": [
      "100%|██████████████████████████████████| 12866/12866 [10:02:36<00:00,  2.81s/it]\n"
     ]
    }
   ],
   "source": [
    "for page in tqdm(range(len(data)+1,12867)):\n",
    "    \n",
    "    try:\n",
    "        \n",
    "        driver.get('https://pixabay.com/photos/search/?pagi='+ str(page))\n",
    "        soup = BeautifulSoup(driver.page_source, 'html.parser')\n",
    "        sp = soup.find('div', class_ = 'results--efirA')\n",
    "        for imgs in sp.find_all('div', class_ = 'cell--3-RsZ result--27pi9'):\n",
    "            img_link = imgs.find('img').get('src')\n",
    "            tags     = imgs.find('img').get('alt')\n",
    "            t = []\n",
    "            for temp in imgs.find_all('span', class_ = 'countLabel--1UhmN'):\n",
    "                t.append(temp.text)\n",
    "            data.append([img_link,tags,t[0],t[1],t[2]])\n",
    "    except:\n",
    "        \n",
    "        driver.get('https://pixabay.com/photos/search/?pagi='+ str(page))\n",
    "        soup = BeautifulSoup(driver.page_source, 'html.parser')\n",
    "        sp = soup.find('div', class_ = 'results--efirA')\n",
    "        for imgs in sp.find_all('div', class_ = 'cell--3-RsZ result--27pi9'):\n",
    "            img_link = imgs.find('img').get('src')\n",
    "            tags     = imgs.find('img').get('alt')\n",
    "            t = []\n",
    "            for temp in imgs.find_all('span', class_ = 'countLabel--1UhmN'):\n",
    "                t.append(temp.text)\n",
    "            data.append([img_link,tags,t[0],t[1],t[2]])"
   ]
  },
  {
   "cell_type": "code",
   "execution_count": 4,
   "id": "35b8bf8b",
   "metadata": {},
   "outputs": [
    {
     "data": {
      "text/plain": [
       "1286600"
      ]
     },
     "execution_count": 4,
     "metadata": {},
     "output_type": "execute_result"
    }
   ],
   "source": [
    "len(data)"
   ]
  },
  {
   "cell_type": "code",
   "execution_count": 5,
   "id": "f471c6d6",
   "metadata": {},
   "outputs": [],
   "source": [
    "df = pd.DataFrame(data, columns = ['img_link','tags','likes','stars','comments'])"
   ]
  },
  {
   "cell_type": "code",
   "execution_count": 7,
   "id": "2e47b303",
   "metadata": {},
   "outputs": [],
   "source": [
    "df.to_csv('imgs.csv',index = False)"
   ]
  },
  {
   "cell_type": "code",
   "execution_count": null,
   "id": "f4d875f7",
   "metadata": {},
   "outputs": [],
   "source": []
  }
 ],
 "metadata": {
  "kernelspec": {
   "display_name": "Python 3 (ipykernel)",
   "language": "python",
   "name": "python3"
  },
  "language_info": {
   "codemirror_mode": {
    "name": "ipython",
    "version": 3
   },
   "file_extension": ".py",
   "mimetype": "text/x-python",
   "name": "python",
   "nbconvert_exporter": "python",
   "pygments_lexer": "ipython3",
   "version": "3.9.7"
  }
 },
 "nbformat": 4,
 "nbformat_minor": 5
}
